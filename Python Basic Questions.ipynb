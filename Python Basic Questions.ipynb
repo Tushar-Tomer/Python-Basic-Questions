{
 "cells": [
  {
   "cell_type": "markdown",
   "id": "7bf56c9d",
   "metadata": {},
   "source": [
    "# Q-1 Write a program to print /n ."
   ]
  },
  {
   "cell_type": "code",
   "execution_count": 4,
   "id": "1227ccc9",
   "metadata": {},
   "outputs": [
    {
     "name": "stdout",
     "output_type": "stream",
     "text": [
      "/n\n"
     ]
    }
   ],
   "source": [
    "a='/n'\n",
    "print(a)"
   ]
  },
  {
   "cell_type": "code",
   "execution_count": 13,
   "id": "ea476001",
   "metadata": {},
   "outputs": [
    {
     "name": "stdout",
     "output_type": "stream",
     "text": [
      "Enter Forward / with n= /n\n",
      "/n\n"
     ]
    }
   ],
   "source": [
    "a=input('Enter Forward / with n= ')\n",
    "print(a)"
   ]
  },
  {
   "cell_type": "markdown",
   "id": "4b14c9da",
   "metadata": {},
   "source": [
    "# Q-2 Write a program to print \\n ."
   ]
  },
  {
   "cell_type": "code",
   "execution_count": 14,
   "id": "8381757e",
   "metadata": {},
   "outputs": [
    {
     "name": "stdout",
     "output_type": "stream",
     "text": [
      "Enter Backward \\ with n= \\n\n",
      "\\n\n"
     ]
    }
   ],
   "source": [
    "a=input('Enter Backward \\ with n= ')\n",
    "print(a)"
   ]
  },
  {
   "cell_type": "markdown",
   "id": "631d6fd1",
   "metadata": {},
   "source": [
    "# Q-3 Write a program that takes a radius as input from the user and calculate area of circle?"
   ]
  },
  {
   "cell_type": "code",
   "execution_count": 5,
   "id": "5592ceee",
   "metadata": {},
   "outputs": [
    {
     "name": "stdout",
     "output_type": "stream",
     "text": [
      "Enter Radius=4\n",
      "Area of Circle= 50.24\n"
     ]
    }
   ],
   "source": [
    "r=int(input('Enter Radius='))\n",
    "print(\"Area of Circle=\",3.14*r*r)      "
   ]
  },
  {
   "cell_type": "markdown",
   "id": "4280bbbb",
   "metadata": {},
   "source": [
    "# Q-4 Write a program that takes a radius as input from the user and calculate Volume of Sphere?"
   ]
  },
  {
   "cell_type": "code",
   "execution_count": 1,
   "id": "2e4d5f97",
   "metadata": {},
   "outputs": [
    {
     "name": "stdout",
     "output_type": "stream",
     "text": [
      "Enter Radius=4\n",
      "Volume of Sphere= 267.94666666666666\n"
     ]
    }
   ],
   "source": [
    "r=int(input('Enter Radius='))\n",
    "print('Volume of Sphere=',4/3*3.14*r**3)"
   ]
  },
  {
   "cell_type": "markdown",
   "id": "1f1f0d5d",
   "metadata": {},
   "source": [
    "# Q-5 Write a program that takes a single number as input, calculates the sum of that number three times, and then returns the answer three times?"
   ]
  },
  {
   "cell_type": "code",
   "execution_count": 2,
   "id": "0a95ff54",
   "metadata": {},
   "outputs": [
    {
     "name": "stdout",
     "output_type": "stream",
     "text": [
      "Enter Any No.=4\n",
      "The Result is three times of the sum= 36\n"
     ]
    }
   ],
   "source": [
    "a=int(input('Enter Any No.='))\n",
    "print('The Result is three times of the sum=',(a+a+a)*3)"
   ]
  },
  {
   "cell_type": "markdown",
   "id": "f74ba978",
   "metadata": {},
   "source": [
    "# Q-6  Write a program to calculate the area of a triangle when given the base and height as inputs from the user?"
   ]
  },
  {
   "cell_type": "code",
   "execution_count": 3,
   "id": "ab0eeec3",
   "metadata": {},
   "outputs": [
    {
     "name": "stdout",
     "output_type": "stream",
     "text": [
      "Enter Base= 4\n",
      "Enter Height= 4\n",
      "Area of Triangle=  8.0\n"
     ]
    }
   ],
   "source": [
    "b=int(input('Enter Base= '))\n",
    "h=int(input('Enter Height= '))\n",
    "print('Area of Triangle= ',1/2*b*h)"
   ]
  },
  {
   "cell_type": "markdown",
   "id": "f4d2cb5f",
   "metadata": {},
   "source": [
    "# Q-7 Write a program that takes two numbers, x and y , calculates the sum of x and y twice, and then multiplies the two sums together?\n",
    "Example = (x+y)*(x+y)"
   ]
  },
  {
   "cell_type": "code",
   "execution_count": 4,
   "id": "e5a997db",
   "metadata": {},
   "outputs": [
    {
     "name": "stdout",
     "output_type": "stream",
     "text": [
      "Your Answer is  49\n"
     ]
    }
   ],
   "source": [
    "x=4\n",
    "y=3\n",
    "print('Your Answer is ',(x+y)*(x+y))"
   ]
  },
  {
   "cell_type": "markdown",
   "id": "fc2ddfbb",
   "metadata": {},
   "source": [
    "# Q-8 Write a program to find a Simple Interest ?"
   ]
  },
  {
   "cell_type": "code",
   "execution_count": 2,
   "id": "490d7d88",
   "metadata": {},
   "outputs": [
    {
     "name": "stdout",
     "output_type": "stream",
     "text": [
      "Simple Interest is  2450.0\n"
     ]
    }
   ],
   "source": [
    "amount=10000\n",
    "rate=3.5\n",
    "time=7\n",
    "print('Simple Interest is ',(amount*rate*time)/100)"
   ]
  },
  {
   "cell_type": "markdown",
   "id": "c43a9dc7",
   "metadata": {},
   "source": [
    "# Q-9 Write a program to convert String to float and float to int ?"
   ]
  },
  {
   "cell_type": "code",
   "execution_count": 3,
   "id": "148c2f55",
   "metadata": {},
   "outputs": [
    {
     "name": "stdout",
     "output_type": "stream",
     "text": [
      "Convert String to float=  246.2458\n",
      "Convert String to integer=  246\n"
     ]
    }
   ],
   "source": [
    "a=\"246.2458\"\n",
    "print('Convert String to float= ',float(a))\n",
    "print('Convert String to integer= ',int(float(a)))"
   ]
  },
  {
   "cell_type": "markdown",
   "id": "7235d7a6",
   "metadata": {},
   "source": [
    "# Q-10 Write a program that calculates the length of the hypotenuse of a right-angle triangle when given the lengths of the other two sides as inputs from the user?"
   ]
  },
  {
   "cell_type": "code",
   "execution_count": 3,
   "id": "d6c68d54",
   "metadata": {},
   "outputs": [
    {
     "name": "stdout",
     "output_type": "stream",
     "text": [
      "Enter a=4\n",
      "Enter b=3\n",
      "Hypotenuse of a right angle triangle= 5\n"
     ]
    }
   ],
   "source": [
    "from math import sqrt\n",
    "a=float(input('Enter a='))\n",
    "b=float(input('Enter b='))\n",
    "print('Hypotenuse of a right angle triangle=',int(sqrt(a**2+b**2)))"
   ]
  },
  {
   "cell_type": "markdown",
   "id": "108f4483",
   "metadata": {},
   "source": [
    "# Q-11 Write a program to swap 2 numbers."
   ]
  },
  {
   "cell_type": "code",
   "execution_count": 4,
   "id": "9a4e6600",
   "metadata": {},
   "outputs": [
    {
     "name": "stdout",
     "output_type": "stream",
     "text": [
      "a= 1 \n",
      "b= 77\n"
     ]
    }
   ],
   "source": [
    "# swaping of two numbers\n",
    "# Type 1:\n",
    "a=77\n",
    "b=1\n",
    "c=a\n",
    "a=b\n",
    "b=c\n",
    "print('a=',a,'\\nb=',b)"
   ]
  },
  {
   "cell_type": "code",
   "execution_count": 5,
   "id": "f4f22531",
   "metadata": {},
   "outputs": [
    {
     "name": "stdout",
     "output_type": "stream",
     "text": [
      "a= 1 \n",
      "b= 77\n"
     ]
    }
   ],
   "source": [
    "# Type 2:\n",
    "a=77\n",
    "b=1\n",
    "a=a+b\n",
    "b=a-b\n",
    "a=a-b\n",
    "print('a=',a,'\\nb=',b)"
   ]
  },
  {
   "cell_type": "code",
   "execution_count": 1,
   "id": "163b14c1",
   "metadata": {},
   "outputs": [
    {
     "name": "stdout",
     "output_type": "stream",
     "text": [
      "a= 1 \n",
      "b= 77\n"
     ]
    }
   ],
   "source": [
    "# Type 3:\n",
    "a=77\n",
    "b=1\n",
    "a,b=b,a\n",
    "print('a=',a,'\\nb=',b)"
   ]
  },
  {
   "cell_type": "markdown",
   "id": "4ba6129f",
   "metadata": {},
   "source": [
    "# Q-12  Write a program that takes a number as input from the user and calculates its cube?"
   ]
  },
  {
   "cell_type": "code",
   "execution_count": 6,
   "id": "f3a0c189",
   "metadata": {},
   "outputs": [
    {
     "name": "stdout",
     "output_type": "stream",
     "text": [
      "Enter Any No.=4\n",
      "Cube is  64\n"
     ]
    }
   ],
   "source": [
    "a=int(input('Enter Any No.='))\n",
    "print('Cube is ',a**3)"
   ]
  }
 ],
 "metadata": {
  "kernelspec": {
   "display_name": "Python 3 (ipykernel)",
   "language": "python",
   "name": "python3"
  },
  "language_info": {
   "codemirror_mode": {
    "name": "ipython",
    "version": 3
   },
   "file_extension": ".py",
   "mimetype": "text/x-python",
   "name": "python",
   "nbconvert_exporter": "python",
   "pygments_lexer": "ipython3",
   "version": "3.9.12"
  }
 },
 "nbformat": 4,
 "nbformat_minor": 5
}
